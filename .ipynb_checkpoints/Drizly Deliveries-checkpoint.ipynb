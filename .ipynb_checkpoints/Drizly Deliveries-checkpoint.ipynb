{
 "cells": [
  {
   "cell_type": "code",
   "execution_count": 3,
   "metadata": {},
   "outputs": [],
   "source": [
    "import sqlite3\n",
    "import csv\n",
    "import pandas as pd\n",
    "\n",
    "# load data\n",
    "df = pd.read_csv('Orders.csv')\n",
    "\n",
    "# strip whitespace from headers\n",
    "df.columns = df.columns.str.strip()\n",
    "\n",
    "con = sqlite3.connect(\"database.db\")\n",
    "\n",
    "# drop data into database\n",
    "df.to_sql(\"Orders\", con)"
   ]
  },
  {
   "cell_type": "code",
   "execution_count": 4,
   "metadata": {},
   "outputs": [],
   "source": [
    "df = pd.read_csv('Brands.csv')\n",
    "\n",
    "# strip whitespace from headers\n",
    "df.columns = df.columns.str.strip()\n",
    "\n",
    "df.to_sql(\"Brands\", con)"
   ]
  },
  {
   "cell_type": "code",
   "execution_count": 146,
   "metadata": {},
   "outputs": [],
   "source": [
    "queryfirst = '''\n",
    "SELECT B.BRAND_NAME, SUM(O.UNIT_PRICE*O.QUANTITY) AS TOTALSALES\n",
    "FROM Drizly Brands B\n",
    "JOIN Store_Order_Items O ON B.BRAND_ID = O.BRAND_ID\n",
    "WHERE HOLDING_COMPANY_NAME = 'Beam Suntory' AND (O.Date BETWEEN '2020/03/13' AND '2020/09/20')\n",
    "GROUP BY B.BRAND_NAME;\n",
    "'''"
   ]
  },
  {
   "cell_type": "code",
   "execution_count": null,
   "metadata": {},
   "outputs": [],
   "source": [
    "querysecond = '''\n",
    "SELECT O.PRODUCT_ID, O.STORE_ID\n",
    "FROM Store_Order_Items O\n",
    "INNER JOIN\n",
    "    (SELECT PRODUCT_ID, STORE_ID, MIN(DATE) AS MinDateTime\n",
    "    FROM Store_Order_Items\n",
    "    WHERE YEAR(DATE) = '2019'\n",
    "    GROUP BY PRODUCT_ID) groupedtt \n",
    "ON O.PRODUCT_ID = groupedtt.PRODUCT_ID \n",
    "AND O.DATE = groupedtt.MinDateTime;\n",
    "'''"
   ]
  },
  {
   "cell_type": "markdown",
   "metadata": {},
   "source": [
    "The date format is incorrect, it should be YYYY/MM/DD. Postgres will automatically try to convert incorrect date formats"
   ]
  },
  {
   "cell_type": "code",
   "execution_count": null,
   "metadata": {},
   "outputs": [],
   "source": [
    "querythird = '''\n",
    "SELECT ORDER_ID, \n",
    "CASE WHEN MONTHNAME(DATE) like '%r' THEN 1 ELSE 0 END AS Ends_In_R,\n",
    "CASE WHEN QUANTITY > 1 THEN 1 ELSE 0 END AS More_Than_One;\n",
    "'''"
   ]
  },
  {
   "cell_type": "code",
   "execution_count": null,
   "metadata": {},
   "outputs": [],
   "source": [
    "queryfourth = '''\n",
    "SELECT *\n",
    "FROM (\n",
    "    SELECT O.*,\n",
    "        row_number() OVER (\n",
    "            PARTITION BY USER_ID \n",
    "            ORDER BY DATE\n",
    "            ) as rank\n",
    "    FROM Store_Order_Items O\n",
    "    WHERE DATE >= '2020/07/15'\n",
    "    ) O\n",
    "JOIN Drizly Brands B ON O.BRAND_ID = B.BRAND_ID\n",
    "WHERE O.rank = 3 AND B.HOLDING_COMPANY_NAME = 'Diageo';\n",
    "'''"
   ]
  },
  {
   "cell_type": "code",
   "execution_count": null,
   "metadata": {},
   "outputs": [],
   "source": []
  },
  {
   "cell_type": "code",
   "execution_count": 147,
   "metadata": {},
   "outputs": [],
   "source": [
    "query1 = con.execute(queryfirst).fetchall()\n",
    "querydf = pd.DataFrame(query1, columns =['UNIT_PRICE', 'TotalSales'])"
   ]
  },
  {
   "cell_type": "code",
   "execution_count": null,
   "metadata": {},
   "outputs": [],
   "source": [
    "query1 = con.execute(query).fetchall()\n",
    "querydf = pd.DataFrame(query1, columns =['Index', 'BRAND_ID', 'BRAND_NAME', 'HOLDING_COMPANY_ID', 'HOLDING_COMPANY_NAME'])"
   ]
  },
  {
   "cell_type": "code",
   "execution_count": 40,
   "metadata": {},
   "outputs": [],
   "source": [
    "query1 = con.execute(query).fetchall()\n",
    "querydf = pd.DataFrame(query1, columns =['Index', 'ORDER_ID', 'USER_ID', 'PRODUCT_ID', 'BRAND_ID', 'UNIT_PRICE', 'QUANTITY', 'DATE', 'STORE_ID'])"
   ]
  },
  {
   "cell_type": "code",
   "execution_count": 148,
   "metadata": {},
   "outputs": [
    {
     "data": {
      "text/html": [
       "<div>\n",
       "<style scoped>\n",
       "    .dataframe tbody tr th:only-of-type {\n",
       "        vertical-align: middle;\n",
       "    }\n",
       "\n",
       "    .dataframe tbody tr th {\n",
       "        vertical-align: top;\n",
       "    }\n",
       "\n",
       "    .dataframe thead th {\n",
       "        text-align: right;\n",
       "    }\n",
       "</style>\n",
       "<table border=\"1\" class=\"dataframe\">\n",
       "  <thead>\n",
       "    <tr style=\"text-align: right;\">\n",
       "      <th></th>\n",
       "      <th>UNIT_PRICE</th>\n",
       "      <th>TotalSales</th>\n",
       "    </tr>\n",
       "  </thead>\n",
       "  <tbody>\n",
       "  </tbody>\n",
       "</table>\n",
       "</div>"
      ],
      "text/plain": [
       "Empty DataFrame\n",
       "Columns: [UNIT_PRICE, TotalSales]\n",
       "Index: []"
      ]
     },
     "execution_count": 148,
     "metadata": {},
     "output_type": "execute_result"
    }
   ],
   "source": [
    "querydf"
   ]
  },
  {
   "cell_type": "code",
   "execution_count": null,
   "metadata": {},
   "outputs": [],
   "source": []
  }
 ],
 "metadata": {
  "kernelspec": {
   "display_name": "Python 3",
   "language": "python",
   "name": "python3"
  },
  "language_info": {
   "codemirror_mode": {
    "name": "ipython",
    "version": 3
   },
   "file_extension": ".py",
   "mimetype": "text/x-python",
   "name": "python",
   "nbconvert_exporter": "python",
   "pygments_lexer": "ipython3",
   "version": "3.7.6"
  }
 },
 "nbformat": 4,
 "nbformat_minor": 4
}
